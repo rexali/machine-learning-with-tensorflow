{
  "nbformat": 4,
  "nbformat_minor": 0,
  "metadata": {
    "colab": {
      "name": "creating-operators.ipynb",
      "version": "0.3.2",
      "provenance": [],
      "collapsed_sections": [],
      "include_colab_link": true
    },
    "kernelspec": {
      "name": "python3",
      "display_name": "Python 3"
    }
  },
  "cells": [
    {
      "cell_type": "markdown",
      "metadata": {
        "id": "view-in-github",
        "colab_type": "text"
      },
      "source": [
        "<a href=\"https://colab.research.google.com/github/rexali/machine-learning-with-tensorflow/blob/master/creating-operators.ipynb\" target=\"_parent\"><img src=\"https://colab.research.google.com/assets/colab-badge.svg\" alt=\"Open In Colab\"/></a>"
      ]
    },
    {
      "cell_type": "code",
      "metadata": {
        "id": "_6A4cIK-gEIE",
        "colab_type": "code",
        "colab": {}
      },
      "source": [
        "# import tensorflow\n",
        "import tensorflow as tf"
      ],
      "execution_count": 0,
      "outputs": []
    },
    {
      "cell_type": "code",
      "metadata": {
        "id": "mEkoICh4hkUC",
        "colab_type": "code",
        "colab": {
          "base_uri": "https://localhost:8080/",
          "height": 34
        },
        "outputId": "a3f81679-2b6b-45d2-a663-e879ab0f9a5a"
      },
      "source": [
        "# Defines an arbitrary tensor\n",
        "x = tf.constant([[1, 2]])\n",
        "# Negates the tensor\n",
        "negMatrix = tf.negative(x)\n",
        "# Prints the object\n",
        "print(negMatrix)"
      ],
      "execution_count": 6,
      "outputs": [
        {
          "output_type": "stream",
          "text": [
            "Tensor(\"Neg:0\", shape=(1, 2), dtype=int32)\n"
          ],
          "name": "stdout"
        }
      ]
    },
    {
      "cell_type": "markdown",
      "metadata": {
        "id": "3-Qeeq3xiWKm",
        "colab_type": "text"
      },
      "source": [
        "Useful TensorFlow operators\n",
        "The official documentation carefully lays out all available math ops: www.tensorflow\n",
        ".org/api_guides/python/math_ops. Specific examples of commonly used operators\n",
        "include the following:\n",
        "*  tf.subtract(x, y)—Subtracts tensors of the same type, x – y\n",
        "*  Equivalent to pow(e, x), where e is Euler’s number (2.718 …)\n",
        "*  tf.sqrt(x)—Equivalent to pow(x, 0.5)\n",
        "*  tf.div(x, y)—Takes the element-wise division of x and y\n",
        "*  tf.truediv(x, y)—Same as tf.div, except casts the arguments as a float\n",
        "*  tf.add(x, y)—Adds two tensors of the same type, x + y\n",
        "*  tf.floordiv(x, y)—Same as truediv, except rounds down the final answer into\n",
        "an integer\n",
        "* tf.mod(x, y)—Takes the element-wise remainder from division"
      ]
    }
  ]
}