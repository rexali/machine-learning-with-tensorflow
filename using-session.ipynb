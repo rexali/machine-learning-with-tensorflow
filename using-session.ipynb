{
  "nbformat": 4,
  "nbformat_minor": 0,
  "metadata": {
    "colab": {
      "name": "using-session.ipynb",
      "version": "0.3.2",
      "provenance": [],
      "include_colab_link": true
    },
    "kernelspec": {
      "name": "python3",
      "display_name": "Python 3"
    }
  },
  "cells": [
    {
      "cell_type": "markdown",
      "metadata": {
        "id": "view-in-github",
        "colab_type": "text"
      },
      "source": [
        "<a href=\"https://colab.research.google.com/github/rexali/machine-learning-with-tensorflow/blob/master/using-session.ipynb\" target=\"_parent\"><img src=\"https://colab.research.google.com/assets/colab-badge.svg\" alt=\"Open In Colab\"/></a>"
      ]
    },
    {
      "cell_type": "code",
      "metadata": {
        "id": "MO87IConlnqC",
        "colab_type": "code",
        "colab": {}
      },
      "source": [
        "# import tensorflow\n",
        "import tensorflow as tf"
      ],
      "execution_count": 0,
      "outputs": []
    },
    {
      "cell_type": "code",
      "metadata": {
        "id": "PgobioU5l8KY",
        "colab_type": "code",
        "colab": {}
      },
      "source": [
        "# Defines an arbitrary matrix\n",
        "x = tf.constant([[1., 2.]])"
      ],
      "execution_count": 0,
      "outputs": []
    },
    {
      "cell_type": "code",
      "metadata": {
        "id": "kTDTE3S9mLZO",
        "colab_type": "code",
        "colab": {}
      },
      "source": [
        "# Runs the negation operator on it\n",
        "neg_op = tf.negative(x)"
      ],
      "execution_count": 0,
      "outputs": []
    },
    {
      "cell_type": "code",
      "metadata": {
        "id": "AQBseKj8mX1-",
        "colab_type": "code",
        "colab": {}
      },
      "source": [
        "# Starts a session to be able to run operations\n",
        "with tf.Session() as sess:\n",
        "  result = sess.run(neg_op) # Tells the session to evaluate negMatrix"
      ],
      "execution_count": 0,
      "outputs": []
    },
    {
      "cell_type": "code",
      "metadata": {
        "id": "TcREe8J0nLt2",
        "colab_type": "code",
        "colab": {
          "base_uri": "https://localhost:8080/",
          "height": 34
        },
        "outputId": "e8f68c0c-ac78-4acb-c04f-2dbda46ff8c1"
      },
      "source": [
        "# Prints the resulting matrix\n",
        "print(result)"
      ],
      "execution_count": 6,
      "outputs": [
        {
          "output_type": "stream",
          "text": [
            "[[-1. -2.]]\n"
          ],
          "name": "stdout"
        }
      ]
    }
  ]
}