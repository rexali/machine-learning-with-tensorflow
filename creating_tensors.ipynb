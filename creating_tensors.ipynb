{
  "nbformat": 4,
  "nbformat_minor": 0,
  "metadata": {
    "colab": {
      "name": "creating-tensors.ipynb",
      "version": "0.3.2",
      "provenance": [],
      "include_colab_link": true
    },
    "kernelspec": {
      "name": "python3",
      "display_name": "Python 3"
    }
  },
  "cells": [
    {
      "cell_type": "markdown",
      "metadata": {
        "id": "view-in-github",
        "colab_type": "text"
      },
      "source": [
        "<a href=\"https://colab.research.google.com/github/rexali/machine-learning-with-tensorflow/blob/master/creating_tensors.ipynb\" target=\"_parent\"><img src=\"https://colab.research.google.com/assets/colab-badge.svg\" alt=\"Open In Colab\"/></a>"
      ]
    },
    {
      "cell_type": "code",
      "metadata": {
        "id": "KlD2UbHxc6CO",
        "colab_type": "code",
        "colab": {}
      },
      "source": [
        "# import tensorflow\n",
        "import tensorflow as tf "
      ],
      "execution_count": 0,
      "outputs": []
    },
    {
      "cell_type": "code",
      "metadata": {
        "id": "-mxibUvAdOYi",
        "colab_type": "code",
        "colab": {}
      },
      "source": [
        "# define 2 x 2 matrix\n",
        "m1 = tf.constant([[1., 2.]])\n",
        "\n",
        "# define 1x2 matrices\n",
        "m2 = tf.constant([[1],\n",
        "                  [2]])\n",
        "\n",
        "#define rank 3 matrices \n",
        "m3 = tf.constant([ [[1,2],\n",
        "                    [3,4],\n",
        "                    [5,6]],\n",
        "                    [[7,8],\n",
        "                    [9,10],\n",
        "                    [11,12]]])"
      ],
      "execution_count": 0,
      "outputs": []
    },
    {
      "cell_type": "markdown",
      "metadata": {
        "id": "njl4WopkeurS",
        "colab_type": "text"
      },
      "source": [
        "Try printing the tensors."
      ]
    },
    {
      "cell_type": "code",
      "metadata": {
        "id": "5J66AdKQdTN_",
        "colab_type": "code",
        "colab": {
          "base_uri": "https://localhost:8080/",
          "height": 68
        },
        "outputId": "9c850c05-af7b-47db-d169-7c3984a3111b"
      },
      "source": [
        "print(m1)\n",
        "print(m2)\n",
        "print(m3) "
      ],
      "execution_count": 3,
      "outputs": [
        {
          "output_type": "stream",
          "text": [
            "Tensor(\"Const:0\", shape=(1, 2), dtype=float32)\n",
            "Tensor(\"Const_1:0\", shape=(2, 1), dtype=int32)\n",
            "Tensor(\"Const_2:0\", shape=(2, 3, 2), dtype=int32)\n"
          ],
          "name": "stdout"
        }
      ]
    },
    {
      "cell_type": "markdown",
      "metadata": {
        "id": "fjAx75oJfFgG",
        "colab_type": "text"
      },
      "source": [
        "EXERCISE 2.1\n",
        "\n",
        "Initialize a 500 × 500 tensor with all elements equaling 0.5.\n",
        "\n",
        "ANSWER\n",
        "\n",
        "tf.ones([500,500]) * 0.5\n"
      ]
    },
    {
      "cell_type": "code",
      "metadata": {
        "id": "8NF4BVG5fSsa",
        "colab_type": "code",
        "colab": {
          "base_uri": "https://localhost:8080/",
          "height": 34
        },
        "outputId": "e826ef08-2cb2-4751-8390-ecf3f07f1ddc"
      },
      "source": [
        "tf.ones([500,500])*0.5"
      ],
      "execution_count": 5,
      "outputs": [
        {
          "output_type": "execute_result",
          "data": {
            "text/plain": [
              "<tf.Tensor 'mul_1:0' shape=(500, 500) dtype=float32>"
            ]
          },
          "metadata": {
            "tags": []
          },
          "execution_count": 5
        }
      ]
    }
  ]
}