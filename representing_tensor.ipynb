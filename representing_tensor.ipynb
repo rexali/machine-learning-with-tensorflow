{
  "nbformat": 4,
  "nbformat_minor": 0,
  "metadata": {
    "colab": {
      "name": "representing-tensor.ipynb",
      "version": "0.3.2",
      "provenance": [],
      "collapsed_sections": [],
      "include_colab_link": true
    },
    "kernelspec": {
      "name": "python3",
      "display_name": "Python 3"
    }
  },
  "cells": [
    {
      "cell_type": "markdown",
      "metadata": {
        "id": "view-in-github",
        "colab_type": "text"
      },
      "source": [
        "<a href=\"https://colab.research.google.com/github/rexali/machine-learning-with-tensorflow/blob/master/representing_tensor.ipynb\" target=\"_parent\"><img src=\"https://colab.research.google.com/assets/colab-badge.svg\" alt=\"Open In Colab\"/></a>"
      ]
    },
    {
      "cell_type": "code",
      "metadata": {
        "id": "kQ1Y_hRqTJ1n",
        "colab_type": "code",
        "colab": {}
      },
      "source": [
        "# You’ll use NumPy matrices in TensorFlow\n",
        "import tensorflow as tf\n",
        "import numpy as np"
      ],
      "execution_count": 0,
      "outputs": []
    },
    {
      "cell_type": "code",
      "metadata": {
        "id": "LAtoCxCKT9p-",
        "colab_type": "code",
        "outputId": "1a18425a-0dcc-4317-8b05-0b3f4064a632",
        "colab": {
          "base_uri": "https://localhost:8080/",
          "height": 94
        }
      },
      "source": [
        "# Defines a 2 × 2 matrix in three ways\n",
        "m1 = [\n",
        "      [1.0, 2.0],\n",
        "      [3.0, 4.0]\n",
        "      ]\n",
        "      \n",
        "m2 = np.array([\n",
        "               [1.0, 2.0],\n",
        "               [3.0, 4.0]\n",
        "               ], dtype=np.float32)\n",
        "\n",
        "m3 = tf.constant([\n",
        "                  [1.0, 2.0],\n",
        "                  [3.0, 4.0]\n",
        "             ])\n",
        "# Prints the type for each matrix\n",
        "print(type(m1))\n",
        "print(type(m2))\n",
        "print(type(m3)) \n",
        "# output"
      ],
      "execution_count": 7,
      "outputs": [
        {
          "output_type": "stream",
          "text": [
            "<class 'list'>\n",
            "<class 'numpy.ndarray'>\n",
            "<class 'tensorflow.python.framework.ops.Tensor'>\n"
          ],
          "name": "stdout"
        }
      ]
    },
    {
      "cell_type": "code",
      "metadata": {
        "id": "Xh9yFCURbXi7",
        "colab_type": "code",
        "colab": {}
      },
      "source": [
        "# Creates tensor objects out of the various types\n",
        "t1 = tf.convert_to_tensor(m1, dtype=tf.float32)\n",
        "t2 = tf.convert_to_tensor(m2, dtype=tf.float32)\n",
        "t3 = tf.convert_to_tensor(m3, dtype=tf.float32) "
      ],
      "execution_count": 0,
      "outputs": []
    },
    {
      "cell_type": "code",
      "metadata": {
        "id": "FqP5Dbvxbvgc",
        "colab_type": "code",
        "colab": {}
      },
      "source": [
        "# # Notice that the types will be the same now."
      ],
      "execution_count": 0,
      "outputs": []
    },
    {
      "cell_type": "code",
      "metadata": {
        "id": "ArEIGNrWb68o",
        "colab_type": "code",
        "outputId": "dec643ed-bf82-40d7-f7cb-6611631112c0",
        "colab": {
          "base_uri": "https://localhost:8080/",
          "height": 94
        }
      },
      "source": [
        "print(type(t1))\n",
        "print(type(t2))\n",
        "print(type(t3)) "
      ],
      "execution_count": 6,
      "outputs": [
        {
          "output_type": "stream",
          "text": [
            "<class 'tensorflow.python.framework.ops.Tensor'>\n",
            "<class 'tensorflow.python.framework.ops.Tensor'>\n",
            "<class 'tensorflow.python.framework.ops.Tensor'>\n"
          ],
          "name": "stdout"
        }
      ]
    }
  ]
}