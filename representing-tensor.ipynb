{
  "nbformat": 4,
  "nbformat_minor": 0,
  "metadata": {
    "colab": {
      "name": "representing-tensor.ipynb",
      "version": "0.3.2",
      "provenance": [],
      "collapsed_sections": [],
      "include_colab_link": true
    },
    "kernelspec": {
      "name": "python3",
      "display_name": "Python 3"
    }
  },
  "cells": [
    {
      "cell_type": "markdown",
      "metadata": {
        "id": "view-in-github",
        "colab_type": "text"
      },
      "source": [
        "<a href=\"https://colab.research.google.com/github/rexali/machine-learning-with-tensorflow/blob/master/representing-tensor.ipynb\" target=\"_parent\"><img src=\"https://colab.research.google.com/assets/colab-badge.svg\" alt=\"Open In Colab\"/></a>"
      ]
    },
    {
      "cell_type": "code",
      "metadata": {
        "id": "kQ1Y_hRqTJ1n",
        "colab_type": "code",
        "colab": {}
      },
      "source": [
        "# You’ll use NumPy matrices in TensorFlow\n",
        "import tensorflow as tf\n",
        "import numpy as np"
      ],
      "execution_count": 0,
      "outputs": []
    },
    {
      "cell_type": "code",
      "metadata": {
        "id": "LAtoCxCKT9p-",
        "colab_type": "code",
        "outputId": "a8f673b7-fdf0-41fe-ccf5-37e470ec0414",
        "colab": {
          "base_uri": "https://localhost:8080/",
          "height": 68
        }
      },
      "source": [
        "#Defines a 2 × 2 matrix in three ways\n",
        "m1 = [[1.0, 2.0],\n",
        " [3.0, 4.0]]\n",
        "m2 = np.array([[1.0, 2.0],\n",
        " [3.0, 4.0]], dtype=np.float32)\n",
        "m3 = tf.constant([[1.0, 2.0],\n",
        " [3.0, 4.0]])\n",
        "print(type(m1))\n",
        "print(type(m2))\n",
        "print(type(m3)) "
      ],
      "execution_count": 0,
      "outputs": [
        {
          "output_type": "stream",
          "text": [
            "<class 'list'>\n",
            "<class 'numpy.ndarray'>\n",
            "<class 'tensorflow.python.framework.ops.Tensor'>\n"
          ],
          "name": "stdout"
        }
      ]
    }
  ]
}